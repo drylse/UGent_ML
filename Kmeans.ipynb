{
 "cells": [
  {
   "cell_type": "code",
   "execution_count": 1,
   "metadata": {},
   "outputs": [],
   "source": [
    "%matplotlib inline\n",
    "import matplotlib.pyplot as plt\n",
    "import seaborn as sns\n",
    "import numpy as np\n",
    "\n",
    "import warnings;\n",
    "warnings.filterwarnings('ignore');"
   ]
  },
  {
   "cell_type": "markdown",
   "metadata": {},
   "source": [
    "## K-means clustering of the MNIST dataset\n",
    "\n",
    "This project applies the k-means clustering algorithm to cluster written digits.\n",
    "\n",
    "The [MNIST](http://yann.lecun.com/exdb/mnist/) dataset is a large database of handwritten digits. We will analyse a subset of this database with digit images reduced to 8x8 grayscaled valued pixels.  \n",
    "\n",
    "It is a very well known dataset in the machine learing community and can be loaded directly from Scikit-learn:"
   ]
  },
  {
   "cell_type": "code",
   "execution_count": 2,
   "metadata": {},
   "outputs": [
    {
     "name": "stdout",
     "output_type": "stream",
     "text": [
      ".. _digits_dataset:\n",
      "\n",
      "Optical recognition of handwritten digits dataset\n",
      "--------------------------------------------------\n",
      "\n",
      "**Data Set Characteristics:**\n",
      "\n",
      "    :Number of Instances: 1797\n",
      "    :Number of Attributes: 64\n",
      "    :Attribute Information: 8x8 image of integer pixels in the range 0..16.\n",
      "    :Missing Attribute Values: None\n",
      "    :Creator: E. Alpaydin (alpaydin '@' boun.edu.tr)\n",
      "    :Date: July; 1998\n",
      "\n",
      "This is a copy of the test set of the UCI ML hand-written digits datasets\n",
      "https://archive.ics.uci.edu/ml/datasets/Optical+Recognition+of+Handwritten+Digits\n",
      "\n",
      "The data set contains images of hand-written digits: 10 classes where\n",
      "each class refers to a digit.\n",
      "\n",
      "Preprocessing programs made available by NIST were used to extract\n",
      "normalized bitmaps of handwritten digits from a preprinted form. From a\n",
      "total of 43 people, 30 contributed to the training set and different 13\n",
      "to the test set. 32x32 bitmaps are divided into nonoverlapping blocks of\n",
      "4x4 and the number of on pixels are counted in each block. This generates\n",
      "an input matrix of 8x8 where each element is an integer in the range\n",
      "0..16. This reduces dimensionality and gives invariance to small\n",
      "distortions.\n",
      "\n",
      "For info on NIST preprocessing routines, see M. D. Garris, J. L. Blue, G.\n",
      "T. Candela, D. L. Dimmick, J. Geist, P. J. Grother, S. A. Janet, and C.\n",
      "L. Wilson, NIST Form-Based Handprint Recognition System, NISTIR 5469,\n",
      "1994.\n",
      "\n",
      ".. topic:: References\n",
      "\n",
      "  - C. Kaynak (1995) Methods of Combining Multiple Classifiers and Their\n",
      "    Applications to Handwritten Digit Recognition, MSc Thesis, Institute of\n",
      "    Graduate Studies in Science and Engineering, Bogazici University.\n",
      "  - E. Alpaydin, C. Kaynak (1998) Cascading Classifiers, Kybernetika.\n",
      "  - Ken Tang and Ponnuthurai N. Suganthan and Xi Yao and A. Kai Qin.\n",
      "    Linear dimensionalityreduction using relevance weighted LDA. School of\n",
      "    Electrical and Electronic Engineering Nanyang Technological University.\n",
      "    2005.\n",
      "  - Claudio Gentile. A New Approximate Maximal Margin Classification\n",
      "    Algorithm. NIPS. 2000.\n",
      "\n"
     ]
    }
   ],
   "source": [
    "from sklearn.datasets import load_digits\n",
    "\n",
    "digits = load_digits()\n",
    "\n",
    "print(digits.DESCR)"
   ]
  },
  {
   "cell_type": "markdown",
   "metadata": {},
   "source": [
    "In `digits`, `data` contains the pixel feature vectors and `target` contains the labels:"
   ]
  },
  {
   "cell_type": "code",
   "execution_count": 3,
   "metadata": {},
   "outputs": [
    {
     "name": "stdout",
     "output_type": "stream",
     "text": [
      "(1797, 64)\n",
      "[[ 0.  0.  5. ...  0.  0.  0.]\n",
      " [ 0.  0.  0. ... 10.  0.  0.]\n",
      " [ 0.  0.  0. ... 16.  9.  0.]\n",
      " ...\n",
      " [ 0.  0.  1. ...  6.  0.  0.]\n",
      " [ 0.  0.  2. ... 12.  0.  0.]\n",
      " [ 0.  0. 10. ... 12.  1.  0.]]\n",
      "[0 1 2 ... 8 9 8]\n"
     ]
    }
   ],
   "source": [
    "print(digits.data.shape)\n",
    "print(digits.data)\n",
    "print(digits.target)"
   ]
  },
  {
   "cell_type": "markdown",
   "metadata": {},
   "source": [
    "The following code shows a random datapoint:"
   ]
  },
  {
   "cell_type": "code",
   "execution_count": 4,
   "metadata": {},
   "outputs": [
    {
     "data": {
      "image/png": "[encoded data removed]",
      "text/plain": [
       "<Figure size 432x288 with 1 Axes>"
      ]
     },
     "metadata": {
      "needs_background": "light"
     },
     "output_type": "display_data"
    }
   ],
   "source": [
    "import random\n",
    "\n",
    "plt.grid(b=None)\n",
    "idx = random.randint(0,len(digits.data)-1)\n",
    "plt.imshow(digits.data[idx].reshape(8,8),cmap=plt.cm.gray_r)\n",
    "plt.title(\"label = %i\"%digits.target[idx])\n",
    "plt.show()"
   ]
  },
  {
   "cell_type": "markdown",
   "metadata": {},
   "source": [
    "The `KMeans` function in Scikit-learn has the following parameters:"
   ]
  },
  {
   "cell_type": "code",
   "execution_count": 5,
   "metadata": {},
   "outputs": [
    {
     "name": "stdout",
     "output_type": "stream",
     "text": [
      "Help on class KMeans in module sklearn.cluster._kmeans:\n",
      "\n",
      "class KMeans(sklearn.base.TransformerMixin, sklearn.base.ClusterMixin, sklearn.base.BaseEstimator)\n",
      " |  KMeans(n_clusters=8, *, init='k-means++', n_init=10, max_iter=300, tol=0.0001, verbose=0, random_state=None, copy_x=True, algorithm='auto')\n",
      " |  \n",
      " |  K-Means clustering.\n",
      " |  \n",
      " |  Read more in the :ref:`User Guide <k_means>`.\n",
      " |  \n",
      " |  Parameters\n",
      " |  ----------\n",
      " |  \n",
      " |  n_clusters : int, default=8\n",
      " |      The number of clusters to form as well as the number of\n",
      " |      centroids to generate.\n",
      " |  \n",
      " |  init : {'k-means++', 'random'}, callable or array-like of shape             (n_clusters, n_features), default='k-means++'\n",
      " |      Method for initialization:\n",
      " |  \n",
      " |      'k-means++' : selects initial cluster centers for k-mean\n",
      " |      clustering in a smart way to speed up convergence. See section\n",
      " |      Notes in k_init for more details.\n",
      " |  \n",
      " |      'random': choose `n_clusters` observations (rows) at random from data\n",
      " |      for the initial centroids.\n",
      " |  \n",
      " |      If an array is passed, it should be of shape (n_clusters, n_features)\n",
      " |      and gives the initial centers.\n",
      " |  \n",
      " |      If a callable is passed, it should take arguments X, n_clusters and a\n",
      " |      random state and return an initialization.\n",
      " |  \n",
      " |  n_init : int, default=10\n",
      " |      Number of time the k-means algorithm will be run with different\n",
      " |      centroid seeds. The final results will be the best output of\n",
      " |      n_init consecutive runs in terms of inertia.\n",
      " |  \n",
      " |  max_iter : int, default=300\n",
      " |      Maximum number of iterations of the k-means algorithm for a\n",
      " |      single run.\n",
      " |  \n",
      " |  tol : float, default=1e-4\n",
      " |      Relative tolerance with regards to Frobenius norm of the difference\n",
      " |      in the cluster centers of two consecutive iterations to declare\n",
      " |      convergence.\n",
      " |  \n",
      " |  verbose : int, default=0\n",
      " |      Verbosity mode.\n",
      " |  \n",
      " |  random_state : int, RandomState instance or None, default=None\n",
      " |      Determines random number generation for centroid initialization. Use\n",
      " |      an int to make the randomness deterministic.\n",
      " |      See :term:`Glossary <random_state>`.\n",
      " |  \n",
      " |  copy_x : bool, default=True\n",
      " |      When pre-computing distances it is more numerically accurate to center\n",
      " |      the data first. If copy_x is True (default), then the original data is\n",
      " |      not modified. If False, the original data is modified, and put back\n",
      " |      before the function returns, but small numerical differences may be\n",
      " |      introduced by subtracting and then adding the data mean. Note that if\n",
      " |      the original data is not C-contiguous, a copy will be made even if\n",
      " |      copy_x is False. If the original data is sparse, but not in CSR format,\n",
      " |      a copy will be made even if copy_x is False.\n",
      " |  \n",
      " |  algorithm : {\"auto\", \"full\", \"elkan\"}, default=\"auto\"\n",
      " |      K-means algorithm to use. The classical EM-style algorithm is \"full\".\n",
      " |      The \"elkan\" variation is more efficient on data with well-defined\n",
      " |      clusters, by using the triangle inequality. However it's more memory\n",
      " |      intensive due to the allocation of an extra array of shape\n",
      " |      (n_samples, n_clusters).\n",
      " |  \n",
      " |      For now \"auto\" (kept for backward compatibility) chooses \"elkan\" but it\n",
      " |      might change in the future for a better heuristic.\n",
      " |  \n",
      " |      .. versionchanged:: 0.18\n",
      " |          Added Elkan algorithm\n",
      " |  \n",
      " |  Attributes\n",
      " |  ----------\n",
      " |  cluster_centers_ : ndarray of shape (n_clusters, n_features)\n",
      " |      Coordinates of cluster centers. If the algorithm stops before fully\n",
      " |      converging (see ``tol`` and ``max_iter``), these will not be\n",
      " |      consistent with ``labels_``.\n",
      " |  \n",
      " |  labels_ : ndarray of shape (n_samples,)\n",
      " |      Labels of each point\n",
      " |  \n",
      " |  inertia_ : float\n",
      " |      Sum of squared distances of samples to their closest cluster center,\n",
      " |      weighted by the sample weights if provided.\n",
      " |  \n",
      " |  n_iter_ : int\n",
      " |      Number of iterations run.\n",
      " |  \n",
      " |  n_features_in_ : int\n",
      " |      Number of features seen during :term:`fit`.\n",
      " |  \n",
      " |      .. versionadded:: 0.24\n",
      " |  \n",
      " |  feature_names_in_ : ndarray of shape (`n_features_in_`,)\n",
      " |      Names of features seen during :term:`fit`. Defined only when `X`\n",
      " |      has feature names that are all strings.\n",
      " |  \n",
      " |      .. versionadded:: 1.0\n",
      " |  \n",
      " |  See Also\n",
      " |  --------\n",
      " |  MiniBatchKMeans : Alternative online implementation that does incremental\n",
      " |      updates of the centers positions using mini-batches.\n",
      " |      For large scale learning (say n_samples > 10k) MiniBatchKMeans is\n",
      " |      probably much faster than the default batch implementation.\n",
      " |  \n",
      " |  Notes\n",
      " |  -----\n",
      " |  The k-means problem is solved using either Lloyd's or Elkan's algorithm.\n",
      " |  \n",
      " |  The average complexity is given by O(k n T), where n is the number of\n",
      " |  samples and T is the number of iteration.\n",
      " |  \n",
      " |  The worst case complexity is given by O(n^(k+2/p)) with\n",
      " |  n = n_samples, p = n_features. (D. Arthur and S. Vassilvitskii,\n",
      " |  'How slow is the k-means method?' SoCG2006)\n",
      " |  \n",
      " |  In practice, the k-means algorithm is very fast (one of the fastest\n",
      " |  clustering algorithms available), but it falls in local minima. That's why\n",
      " |  it can be useful to restart it several times.\n",
      " |  \n",
      " |  If the algorithm stops before fully converging (because of ``tol`` or\n",
      " |  ``max_iter``), ``labels_`` and ``cluster_centers_`` will not be consistent,\n",
      " |  i.e. the ``cluster_centers_`` will not be the means of the points in each\n",
      " |  cluster. Also, the estimator will reassign ``labels_`` after the last\n",
      " |  iteration to make ``labels_`` consistent with ``predict`` on the training\n",
      " |  set.\n",
      " |  \n",
      " |  Examples\n",
      " |  --------\n",
      " |  \n",
      " |  >>> from sklearn.cluster import KMeans\n",
      " |  >>> import numpy as np\n",
      " |  >>> X = np.array([[1, 2], [1, 4], [1, 0],\n",
      " |  ...               [10, 2], [10, 4], [10, 0]])\n",
      " |  >>> kmeans = KMeans(n_clusters=2, random_state=0).fit(X)\n",
      " |  >>> kmeans.labels_\n",
      " |  array([1, 1, 1, 0, 0, 0], dtype=int32)\n",
      " |  >>> kmeans.predict([[0, 0], [12, 3]])\n",
      " |  array([1, 0], dtype=int32)\n",
      " |  >>> kmeans.cluster_centers_\n",
      " |  array([[10.,  2.],\n",
      " |         [ 1.,  2.]])\n",
      " |  \n",
      " |  Method resolution order:\n",
      " |      KMeans\n",
      " |      sklearn.base.TransformerMixin\n",
      " |      sklearn.base.ClusterMixin\n",
      " |      sklearn.base.BaseEstimator\n",
      " |      builtins.object\n",
      " |  \n",
      " |  Methods defined here:\n",
      " |  \n",
      " |  __init__(self, n_clusters=8, *, init='k-means++', n_init=10, max_iter=300, tol=0.0001, verbose=0, random_state=None, copy_x=True, algorithm='auto')\n",
      " |      Initialize self.  See help(type(self)) for accurate signature.\n",
      " |  \n",
      " |  fit(self, X, y=None, sample_weight=None)\n",
      " |      Compute k-means clustering.\n",
      " |      \n",
      " |      Parameters\n",
      " |      ----------\n",
      " |      X : {array-like, sparse matrix} of shape (n_samples, n_features)\n",
      " |          Training instances to cluster. It must be noted that the data\n",
      " |          will be converted to C ordering, which will cause a memory\n",
      " |          copy if the given data is not C-contiguous.\n",
      " |          If a sparse matrix is passed, a copy will be made if it's not in\n",
      " |          CSR format.\n",
      " |      \n",
      " |      y : Ignored\n",
      " |          Not used, present here for API consistency by convention.\n",
      " |      \n",
      " |      sample_weight : array-like of shape (n_samples,), default=None\n",
      " |          The weights for each observation in X. If None, all observations\n",
      " |          are assigned equal weight.\n",
      " |      \n",
      " |          .. versionadded:: 0.20\n",
      " |      \n",
      " |      Returns\n",
      " |      -------\n",
      " |      self : object\n",
      " |          Fitted estimator.\n",
      " |  \n",
      " |  fit_predict(self, X, y=None, sample_weight=None)\n",
      " |      Compute cluster centers and predict cluster index for each sample.\n",
      " |      \n",
      " |      Convenience method; equivalent to calling fit(X) followed by\n",
      " |      predict(X).\n",
      " |      \n",
      " |      Parameters\n",
      " |      ----------\n",
      " |      X : {array-like, sparse matrix} of shape (n_samples, n_features)\n",
      " |          New data to transform.\n",
      " |      \n",
      " |      y : Ignored\n",
      " |          Not used, present here for API consistency by convention.\n",
      " |      \n",
      " |      sample_weight : array-like of shape (n_samples,), default=None\n",
      " |          The weights for each observation in X. If None, all observations\n",
      " |          are assigned equal weight.\n",
      " |      \n",
      " |      Returns\n",
      " |      -------\n",
      " |      labels : ndarray of shape (n_samples,)\n",
      " |          Index of the cluster each sample belongs to.\n",
      " |  \n",
      " |  fit_transform(self, X, y=None, sample_weight=None)\n",
      " |      Compute clustering and transform X to cluster-distance space.\n",
      " |      \n",
      " |      Equivalent to fit(X).transform(X), but more efficiently implemented.\n",
      " |      \n",
      " |      Parameters\n",
      " |      ----------\n",
      " |      X : {array-like, sparse matrix} of shape (n_samples, n_features)\n",
      " |          New data to transform.\n",
      " |      \n",
      " |      y : Ignored\n",
      " |          Not used, present here for API consistency by convention.\n",
      " |      \n",
      " |      sample_weight : array-like of shape (n_samples,), default=None\n",
      " |          The weights for each observation in X. If None, all observations\n",
      " |          are assigned equal weight.\n",
      " |      \n",
      " |      Returns\n",
      " |      -------\n",
      " |      X_new : ndarray of shape (n_samples, n_clusters)\n",
      " |          X transformed in the new space.\n",
      " |  \n",
      " |  predict(self, X, sample_weight=None)\n",
      " |      Predict the closest cluster each sample in X belongs to.\n",
      " |      \n",
      " |      In the vector quantization literature, `cluster_centers_` is called\n",
      " |      the code book and each value returned by `predict` is the index of\n",
      " |      the closest code in the code book.\n",
      " |      \n",
      " |      Parameters\n",
      " |      ----------\n",
      " |      X : {array-like, sparse matrix} of shape (n_samples, n_features)\n",
      " |          New data to predict.\n",
      " |      \n",
      " |      sample_weight : array-like of shape (n_samples,), default=None\n",
      " |          The weights for each observation in X. If None, all observations\n",
      " |          are assigned equal weight.\n",
      " |      \n",
      " |      Returns\n",
      " |      -------\n",
      " |      labels : ndarray of shape (n_samples,)\n",
      " |          Index of the cluster each sample belongs to.\n",
      " |  \n",
      " |  score(self, X, y=None, sample_weight=None)\n",
      " |      Opposite of the value of X on the K-means objective.\n",
      " |      \n",
      " |      Parameters\n",
      " |      ----------\n",
      " |      X : {array-like, sparse matrix} of shape (n_samples, n_features)\n",
      " |          New data.\n",
      " |      \n",
      " |      y : Ignored\n",
      " |          Not used, present here for API consistency by convention.\n",
      " |      \n",
      " |      sample_weight : array-like of shape (n_samples,), default=None\n",
      " |          The weights for each observation in X. If None, all observations\n",
      " |          are assigned equal weight.\n",
      " |      \n",
      " |      Returns\n",
      " |      -------\n",
      " |      score : float\n",
      " |          Opposite of the value of X on the K-means objective.\n",
      " |  \n",
      " |  transform(self, X)\n",
      " |      Transform X to a cluster-distance space.\n",
      " |      \n",
      " |      In the new space, each dimension is the distance to the cluster\n",
      " |      centers. Note that even if X is sparse, the array returned by\n",
      " |      `transform` will typically be dense.\n",
      " |      \n",
      " |      Parameters\n",
      " |      ----------\n",
      " |      X : {array-like, sparse matrix} of shape (n_samples, n_features)\n",
      " |          New data to transform.\n",
      " |      \n",
      " |      Returns\n",
      " |      -------\n",
      " |      X_new : ndarray of shape (n_samples, n_clusters)\n",
      " |          X transformed in the new space.\n",
      " |  \n",
      " |  ----------------------------------------------------------------------\n",
      " |  Data descriptors inherited from sklearn.base.TransformerMixin:\n",
      " |  \n",
      " |  __dict__\n",
      " |      dictionary for instance variables (if defined)\n",
      " |  \n",
      " |  __weakref__\n",
      " |      list of weak references to the object (if defined)\n",
      " |  \n",
      " |  ----------------------------------------------------------------------\n",
      " |  Methods inherited from sklearn.base.BaseEstimator:\n",
      " |  \n",
      " |  __getstate__(self)\n",
      " |  \n",
      " |  __repr__(self, N_CHAR_MAX=700)\n",
      " |      Return repr(self).\n",
      " |  \n",
      " |  __setstate__(self, state)\n",
      " |  \n",
      " |  get_params(self, deep=True)\n",
      " |      Get parameters for this estimator.\n",
      " |      \n",
      " |      Parameters\n",
      " |      ----------\n",
      " |      deep : bool, default=True\n",
      " |          If True, will return the parameters for this estimator and\n",
      " |          contained subobjects that are estimators.\n",
      " |      \n",
      " |      Returns\n",
      " |      -------\n",
      " |      params : dict\n",
      " |          Parameter names mapped to their values.\n",
      " |  \n",
      " |  set_params(self, **params)\n",
      " |      Set the parameters of this estimator.\n",
      " |      \n",
      " |      The method works on simple estimators as well as on nested objects\n",
      " |      (such as :class:`~sklearn.pipeline.Pipeline`). The latter have\n",
      " |      parameters of the form ``<component>__<parameter>`` so that it's\n",
      " |      possible to update each component of a nested object.\n",
      " |      \n",
      " |      Parameters\n",
      " |      ----------\n",
      " |      **params : dict\n",
      " |          Estimator parameters.\n",
      " |      \n",
      " |      Returns\n",
      " |      -------\n",
      " |      self : estimator instance\n",
      " |          Estimator instance.\n",
      "\n"
     ]
    }
   ],
   "source": [
    "from sklearn.cluster import KMeans\n",
    "\n",
    "help(KMeans)"
   ]
  },
  {
   "cell_type": "markdown",
   "metadata": {},
   "source": [
    "Notice that the k-means++ initialization is the default in Scikit-learn KMeans.\n",
    "\n",
    "Also notice hyperparameter `n_init` that sets the number of time the k-means algorithm will be run with different centroid seeds, with the final best result selected based on the inertia metric.\n",
    "\n",
    "*Cluster the data into 10 groups with just one random cluster center initialization. Set `random_state` equal to zero:* "
   ]
  },
  {
   "cell_type": "code",
   "execution_count": 25,
   "metadata": {},
   "outputs": [
    {
     "name": "stdout",
     "output_type": "stream",
     "text": [
      "(10, 64)\n",
      "[7 1 1 ... 1 8 8]\n"
     ]
    }
   ],
   "source": [
    "#Start code here\n",
    "kmeans = KMeans(n_clusters = 10, random_state=0, init='random', n_init=1).fit(digits.data)\n",
    "clusters = kmeans.predict(digits.data)\n",
    "#End code here\n",
    "\n",
    "print(kmeans.cluster_centers_.shape)\n",
    "print(clusters)"
   ]
  },
  {
   "cell_type": "markdown",
   "metadata": {},
   "source": [
    "*What is the inertia for the obtained clusters?*"
   ]
  },
  {
   "cell_type": "code",
   "execution_count": 7,
   "metadata": {},
   "outputs": [
    {
     "name": "stdout",
     "output_type": "stream",
     "text": [
      "1165142.0046186212\n"
     ]
    }
   ],
   "source": [
    "#Start code here\n",
    "\n",
    "inertia = kmeans.inertia_\n",
    "print(inertia)\n",
    "\n",
    "#End code here"
   ]
  },
  {
   "cell_type": "markdown",
   "metadata": {},
   "source": [
    "The following code plots the 10 cluster centers:"
   ]
  },
  {
   "cell_type": "code",
   "execution_count": 8,
   "metadata": {},
   "outputs": [
    {
     "data": {
      "image/png": "[encoded data removed]",
      "text/plain": [
       "<Figure size 576x216 with 10 Axes>"
      ]
     },
     "metadata": {},
     "output_type": "display_data"
    }
   ],
   "source": [
    "fig, ax = plt.subplots(2, 5, figsize=(8, 3))\n",
    "for axi, center in zip(ax.flat, kmeans.cluster_centers_):\n",
    "    axi.set(xticks=[], yticks=[])\n",
    "    axi.imshow(center.reshape(8, 8), cmap=plt.cm.binary)"
   ]
  },
  {
   "cell_type": "markdown",
   "metadata": {},
   "source": [
    "Now we have each datapoint (written digit) assiged to one of these cluster centers.\n",
    "\n",
    "*Print the labels for all the datapoints in the first cluster:*"
   ]
  },
  {
   "cell_type": "code",
   "execution_count": 41,
   "metadata": {},
   "outputs": [
    {
     "name": "stdout",
     "output_type": "stream",
     "text": [
      "[3 3 3 3 3 3 3 3 3 3 3 9 3 3 3 3 9 3 3 3 3 3 3 3 3 3 3 3 3 3 3 3 3 3 3 3 3\n",
      " 3 3 3 3 3 3 3 3 3 3 3 3 3 3 3 3 3 3 3 3 3 2 3 3 3 3 2 3 3 3 3 3 3 3 3 3 3\n",
      " 3 3 3 3 3 3 3 3 3 3 3 1 3 3 3 3 3 3 3 3 3 3 3 9 3 3 3 3 3 3 3 2 3 3 3 3 8\n",
      " 3 3 3 3 3 3 3 3 3 3 3 3 3 3 2 3 3 2 2 2 2 3 3 3 3 2 3 3 3 3 3 3 3 3 3 3 3\n",
      " 3 3 3 3 3 3 3 9 3 2 3 3 2 2 3 3 3 3 3 9 2 9 3 8 3 3 3 3]\n"
     ]
    }
   ],
   "source": [
    "#Start code here\n",
    "\n",
    "print(digits.target[clusters==0])\n",
    "\n",
    "#End code here"
   ]
  },
  {
   "cell_type": "markdown",
   "metadata": {},
   "source": [
    "The true labels are known (in contrast to real unsupervised learning where the labels are unknown) and can be used to evaluate the k-means clustering result. \n",
    "\n",
    "For this, we assign the mode of the datapoint labels in a cluster to all the datapoints in that cluster.\n",
    "\n",
    "*Use the Python `mode()` function to compute, for each cluster, the mode of the labels of the datapoints in that cluster:*"
   ]
  },
  {
   "cell_type": "code",
   "execution_count": 42,
   "metadata": {},
   "outputs": [
    {
     "name": "stdout",
     "output_type": "stream",
     "text": [
      "ModeResult(mode=array([3]), count=array([154]))\n",
      "ModeResult(mode=array([8]), count=array([101]))\n",
      "ModeResult(mode=array([2]), count=array([148]))\n",
      "ModeResult(mode=array([6]), count=array([177]))\n",
      "ModeResult(mode=array([4]), count=array([162]))\n",
      "ModeResult(mode=array([7]), count=array([175]))\n",
      "ModeResult(mode=array([1]), count=array([55]))\n",
      "ModeResult(mode=array([0]), count=array([177]))\n",
      "ModeResult(mode=array([9]), count=array([139]))\n",
      "ModeResult(mode=array([5]), count=array([136]))\n"
     ]
    }
   ],
   "source": [
    "from scipy.stats import mode\n",
    "\n",
    "#Start code here\n",
    "\n",
    "for i in range(0,10):\n",
    "    print(mode(digits.target[clusters==i]))\n",
    "   \n",
    "#End code here"
   ]
  },
  {
   "cell_type": "markdown",
   "metadata": {},
   "source": [
    "*Does every cluster have a different label mode?*\n",
    "\n",
    "We can set the label mode as the k-means class prediction for each datapoint in a cluster.\n",
    "\n",
    "The following code creates a numpy array `cluster_labels` that contains these predictions for each datapoint: "
   ]
  },
  {
   "cell_type": "code",
   "execution_count": 44,
   "metadata": {},
   "outputs": [
    {
     "name": "stdout",
     "output_type": "stream",
     "text": [
      "[0 8 8 ... 8 9 9]\n"
     ]
    }
   ],
   "source": [
    "cluster_labels = np.zeros_like(clusters)\n",
    "for i in range(10):\n",
    "    mask = (clusters == i)\n",
    "    cluster_labels[mask] = mode(digits.target[mask])[0]\n",
    "    \n",
    "print(cluster_labels)"
   ]
  },
  {
   "cell_type": "markdown",
   "metadata": {},
   "source": [
    "Finally, we compare these predictions with the true labels of the datapoints.\n",
    "\n",
    "*Compute the accuracy of the k-means class predictions:*"
   ]
  },
  {
   "cell_type": "code",
   "execution_count": 51,
   "metadata": {},
   "outputs": [
    {
     "name": "stdout",
     "output_type": "stream",
     "text": [
      "0.7924318308291597\n"
     ]
    }
   ],
   "source": [
    "#Start code here\n",
    "\n",
    "from sklearn import metrics\n",
    "\n",
    "score_acc = metrics.accuracy_score(digits.target, cluster_labels)\n",
    "\n",
    "#End code here\n",
    "\n",
    "print(score_acc)"
   ]
  },
  {
   "cell_type": "markdown",
   "metadata": {},
   "source": [
    "*Plot the prediction results as a confusion matrix:*"
   ]
  },
  {
   "cell_type": "code",
   "execution_count": 48,
   "metadata": {},
   "outputs": [
    {
     "name": "stdout",
     "output_type": "stream",
     "text": [
      "[[177   0   0   0   1   0   0   0   0   0]\n",
      " [  0  55  24   1   0   1   2   0  99   0]\n",
      " [  1   2 148  13   0   0   0   3   8   2]\n",
      " [  0   0   0 154   0   2   0   7   7  13]\n",
      " [  0   7   0   0 162   0   0   9   3   0]\n",
      " [  0   0   0   0   2 136   1   0   0  43]\n",
      " [  1   1   0   0   0   0 177   0   2   0]\n",
      " [  0   2   0   0   0   0   0 175   2   0]\n",
      " [  0   6   3   2   0   4   2   5 101  51]\n",
      " [  0  20   0   6   0   6   0   7   2 139]]\n"
     ]
    }
   ],
   "source": [
    "from sklearn.metrics import confusion_matrix\n",
    "\n",
    "#Start code here\n",
    "\n",
    "matrix = confusion_matrix(digits.target, cluster_labels)\n",
    "print(matrix)\n",
    "\n",
    "#End code here"
   ]
  },
  {
   "cell_type": "markdown",
   "metadata": {},
   "source": [
    "*What does this tell you about the following pair of classes?*\n",
    "- *8 and 1*\n",
    "- *9 and 5*\n",
    "- *9 and 8*\n",
    "\n",
    "*Repeat the k-means clustering with just one random cluster center initialization for 100 different cluster center initializations (run k-means a hundred times). Compute the accuracy for each of the k-means class predictions and store these in the list called `kmeans_accuracies`:*"
   ]
  },
  {
   "cell_type": "code",
   "execution_count": 73,
   "metadata": {},
   "outputs": [
    {
     "name": "stdout",
     "output_type": "stream",
     "text": [
      "[0.7289927657206455, 0.7629382303839732, 0.7907623817473567, 0.7863105175292153, 0.7757373400111297, 0.7256538675570395, 0.7289927657206455, 0.8670005564830273, 0.7273233166388425, 0.7991096271563717, 0.7223149693934335, 0.7434613244296049, 0.7301057317751809, 0.776850306065665, 0.8497495826377296, 0.7879799666110183, 0.7924318308291597, 0.8024485253199778, 0.7306622148024485, 0.7289927657206455, 0.755147468002226, 0.7161936560934892, 0.7952142459654981, 0.7896494156928213, 0.7284362826933779, 0.7896494156928213, 0.775180856983862, 0.7139677239844184, 0.7262103505843072, 0.7902058987200891, 0.7289927657206455, 0.7000556483027268, 0.8024485253199778, 0.7301057317751809, 0.7590428491930996, 0.7417918753478019, 0.7991096271563717, 0.7946577629382304, 0.7417918753478019, 0.8375069560378409, 0.7295492487479132, 0.7033945464663328, 0.7295492487479132, 0.763494713411241, 0.7250973845297718, 0.7590428491930996, 0.7851975514746801, 0.7301057317751809, 0.7779632721202003, 0.796883695047301, 0.8057874234835838, 0.7245409015025042, 0.7234279354479688, 0.7212020033388982, 0.7100723427935448, 0.7351140790205899, 0.7902058987200891, 0.7924318308291597, 0.666110183639399, 0.7390094602114635, 0.7907623817473567, 0.7378964941569283, 0.7390094602114635, 0.7033945464663328, 0.6716750139120757, 0.7907623817473567, 0.7740678909293267, 0.7445742904841403, 0.7907623817473567, 0.7323316638842515, 0.7306622148024485, 0.7807456872565387, 0.7256538675570395, 0.6917084028937117, 0.7278797996661102, 0.765164162493044, 0.7161936560934892, 0.7952142459654981, 0.7267668336115748, 0.7289927657206455, 0.7295492487479132, 0.7885364496382861, 0.7896494156928213, 0.7234279354479688, 0.7284362826933779, 0.7879799666110183, 0.7312186978297162, 0.7918753478018921, 0.7312186978297162, 0.7362270450751253, 0.7918753478018921, 0.7879799666110183, 0.7234279354479688, 0.7028380634390651, 0.7929883138564274, 0.7022815804117974, 0.7885364496382861, 0.7924318308291597, 0.7328881469115192, 0.7234279354479688]\n"
     ]
    }
   ],
   "source": [
    "kmeans_accuracies = []\n",
    "\n",
    "#Start code here\n",
    "for k in range(100):\n",
    "    kmeans = KMeans(n_clusters = 10, init='random', n_init=1).fit(digits.data)\n",
    "    clusters = kmeans.predict(digits.data)\n",
    "    cluster_labels = np.zeros_like(clusters)\n",
    "    for i in range(10):\n",
    "        mask = (clusters == i)\n",
    "        cluster_labels[mask] = mode(digits.target[mask])[0]\n",
    "    kmeans_accuracies += [metrics.accuracy_score(digits.target, cluster_labels)]\n",
    "\n",
    "print(kmeans_accuracies)\n",
    "#End code here"
   ]
  },
  {
   "cell_type": "markdown",
   "metadata": {},
   "source": [
    "*Use the Seaborn `distplot()` function to plot the 100 accuracies in `kmeans_accuracies`:*"
   ]
  },
  {
   "cell_type": "code",
   "execution_count": 74,
   "metadata": {},
   "outputs": [
    {
     "data": {
      "text/plain": [
       "<AxesSubplot:ylabel='Density'>"
      ]
     },
     "execution_count": 74,
     "metadata": {},
     "output_type": "execute_result"
    },
    {
     "data": {
      "image/png": "[encoded data removed]",
      "text/plain": [
       "<Figure size 432x288 with 1 Axes>"
      ]
     },
     "metadata": {
      "needs_background": "light"
     },
     "output_type": "display_data"
    }
   ],
   "source": [
    "#Start code here\n",
    "sns.distplot(kmeans_accuracies)\n",
    "#End code here"
   ]
  },
  {
   "cell_type": "markdown",
   "metadata": {},
   "source": [
    "*What do you see?*\n",
    "\n",
    "*Make the same plot for k-means cluster centers initialized with k-means++:* "
   ]
  },
  {
   "cell_type": "code",
   "execution_count": 75,
   "metadata": {},
   "outputs": [
    {
     "name": "stdout",
     "output_type": "stream",
     "text": [
      "[0.8063439065108514, 0.7868670005564831, 0.7334446299387869, 0.7918753478018921, 0.7879799666110183, 0.7245409015025042, 0.7206455203116305, 0.7941012799109627, 0.7913188647746243, 0.8141346688925988, 0.7712854757929883, 0.7417918753478019, 0.781858653311074, 0.7835281023928771, 0.7851975514746801, 0.7974401780745687, 0.7885364496382861, 0.7212020033388982, 0.7902058987200891, 0.8714524207011686, 0.7918753478018921, 0.798553144129104, 0.7262103505843072, 0.7089593767390094, 0.7245409015025042, 0.7301057317751809, 0.781858653311074, 0.7462437395659433, 0.7890929326655537, 0.8514190317195326, 0.7902058987200891, 0.8647746243739566, 0.7673900946021146, 0.7595993322203672, 0.7929883138564274, 0.8714524207011686, 0.7295492487479132, 0.7868670005564831, 0.7301057317751809, 0.8653311074012242, 0.7935447968836951, 0.7395659432387313, 0.7334446299387869, 0.7907623817473567, 0.860879243183083, 0.8007790762381747, 0.7278797996661102, 0.7262103505843072, 0.7946577629382304, 0.7913188647746243, 0.7323316638842515, 0.8046744574290484, 0.7328881469115192, 0.7161936560934892, 0.7234279354479688, 0.7250973845297718, 0.7451307735114079, 0.7295492487479132, 0.6983861992209237, 0.7100723427935448, 0.7434613244296049, 0.7851975514746801, 0.7924318308291597, 0.7401224262659989, 0.7935447968836951, 0.7813021702838063, 0.7401224262659989, 0.7195325542570952, 0.7957707289927657, 0.7924318308291597, 0.7907623817473567, 0.7918753478018921, 0.7173066221480244, 0.7907623817473567, 0.7200890372843628, 0.7145242070116862, 0.7890929326655537, 0.7890929326655537, 0.7907623817473567, 0.869226488592098, 0.7929883138564274, 0.7451307735114079, 0.7924318308291597, 0.7890929326655537, 0.8146911519198664, 0.7935447968836951, 0.7295492487479132, 0.7924318308291597, 0.6783528102392877, 0.7434613244296049, 0.7646076794657763, 0.7212020033388982, 0.7417918753478019, 0.7445742904841403, 0.7946577629382304, 0.80189204229271, 0.7902058987200891, 0.664440734557596, 0.7874234835837507, 0.7913188647746243]\n"
     ]
    },
    {
     "data": {
      "text/plain": [
       "<AxesSubplot:ylabel='Density'>"
      ]
     },
     "execution_count": 75,
     "metadata": {},
     "output_type": "execute_result"
    },
    {
     "data": {
      "image/png": "[encoded data removed]",
      "text/plain": [
       "<Figure size 432x288 with 1 Axes>"
      ]
     },
     "metadata": {
      "needs_background": "light"
     },
     "output_type": "display_data"
    }
   ],
   "source": [
    "kmeans_accuracies = []\n",
    "\n",
    "#Start code here\n",
    "for k in range(100):\n",
    "    kmeans = KMeans(n_clusters = 10, init='k-means++', n_init=1).fit(digits.data)\n",
    "    clusters = kmeans.predict(digits.data)\n",
    "    cluster_labels = np.zeros_like(clusters)\n",
    "    for i in range(10):\n",
    "        mask = (clusters == i)\n",
    "        cluster_labels[mask] = mode(digits.target[mask])[0]\n",
    "    kmeans_accuracies += [metrics.accuracy_score(digits.target, cluster_labels)]\n",
    "\n",
    "print(kmeans_accuracies)\n",
    "sns.distplot(kmeans_accuracies)\n",
    "#End code here"
   ]
  },
  {
   "cell_type": "markdown",
   "metadata": {},
   "source": [
    "*What do you see?*\n",
    "\n",
    "*Make the same plot for k-means cluster centers initialized with k-means++  and `n_init` equal to 10:*"
   ]
  },
  {
   "cell_type": "code",
   "execution_count": 76,
   "metadata": {},
   "outputs": [
    {
     "name": "stdout",
     "output_type": "stream",
     "text": [
      "[0.7957707289927657, 0.7929883138564274, 0.7902058987200891, 0.7907623817473567, 0.7918753478018921, 0.7946577629382304, 0.7941012799109627, 0.7924318308291597, 0.7935447968836951, 0.7913188647746243, 0.7946577629382304, 0.7896494156928213, 0.7913188647746243, 0.7952142459654981, 0.7929883138564274, 0.7946577629382304, 0.7902058987200891, 0.7924318308291597, 0.7941012799109627, 0.7935447968836951, 0.7918753478018921, 0.7957707289927657, 0.7935447968836951, 0.7946577629382304, 0.7924318308291597, 0.7918753478018921, 0.7907623817473567, 0.7885364496382861, 0.7963272120200334, 0.7913188647746243, 0.7918753478018921, 0.7946577629382304, 0.7913188647746243, 0.7957707289927657, 0.7952142459654981, 0.7907623817473567, 0.7935447968836951, 0.7941012799109627, 0.7935447968836951, 0.7957707289927657, 0.7929883138564274, 0.7885364496382861, 0.7924318308291597, 0.7918753478018921, 0.7902058987200891, 0.7946577629382304, 0.7902058987200891, 0.7946577629382304, 0.7952142459654981, 0.7924318308291597, 0.7946577629382304, 0.7918753478018921, 0.7941012799109627, 0.7918753478018921, 0.7890929326655537, 0.7935447968836951, 0.7929883138564274, 0.7924318308291597, 0.7957707289927657, 0.7929883138564274, 0.7941012799109627, 0.7929883138564274, 0.7907623817473567, 0.7935447968836951, 0.7935447968836951, 0.7913188647746243, 0.7918753478018921, 0.7957707289927657, 0.7913188647746243, 0.7890929326655537, 0.7946577629382304, 0.7941012799109627, 0.7896494156928213, 0.7924318308291597, 0.7924318308291597, 0.7924318308291597, 0.7907623817473567, 0.7929883138564274, 0.7913188647746243, 0.7918753478018921, 0.7941012799109627, 0.7935447968836951, 0.7913188647746243, 0.7907623817473567, 0.7913188647746243, 0.7890929326655537, 0.7952142459654981, 0.7952142459654981, 0.7963272120200334, 0.7929883138564274, 0.7935447968836951, 0.7979966611018364, 0.7946577629382304, 0.7907623817473567, 0.7952142459654981, 0.7907623817473567, 0.7935447968836951, 0.7929883138564274, 0.7929883138564274, 0.7913188647746243]\n"
     ]
    },
    {
     "data": {
      "text/plain": [
       "<AxesSubplot:ylabel='Density'>"
      ]
     },
     "execution_count": 76,
     "metadata": {},
     "output_type": "execute_result"
    },
    {
     "data": {
      "image/png": "[encoded data removed]",
      "text/plain": [
       "<Figure size 432x288 with 1 Axes>"
      ]
     },
     "metadata": {
      "needs_background": "light"
     },
     "output_type": "display_data"
    }
   ],
   "source": [
    "kmeans_accuracies = []\n",
    "\n",
    "#Start code here\n",
    "for k in range(100):\n",
    "    kmeans = KMeans(n_clusters = 10, init='k-means++', n_init=10).fit(digits.data)\n",
    "    clusters = kmeans.predict(digits.data)\n",
    "    cluster_labels = np.zeros_like(clusters)\n",
    "    for i in range(10):\n",
    "        mask = (clusters == i)\n",
    "        cluster_labels[mask] = mode(digits.target[mask])[0]\n",
    "    kmeans_accuracies += [metrics.accuracy_score(digits.target, cluster_labels)]\n",
    "\n",
    "print(kmeans_accuracies)\n",
    "sns.distplot(kmeans_accuracies)\n",
    "#End code here"
   ]
  },
  {
   "cell_type": "markdown",
   "metadata": {},
   "source": [
    "*What do you see?*\n",
    "\n",
    "*Estimate the performance (accuracy) of an optimized logistic regression model on unseen external data:*"
   ]
  },
  {
   "cell_type": "code",
   "execution_count": 101,
   "metadata": {},
   "outputs": [
    {
     "name": "stdout",
     "output_type": "stream",
     "text": [
      "LogisticRegression(C=0.01)\n",
      "The best score for this model is 0.9600899031811896 with C=0.01\n",
      "0.9700550964187327\n",
      "The accuracy of an optimized logistic regression model on unseen external data is 0.9696969696969697\n"
     ]
    }
   ],
   "source": [
    "#Start code here\n",
    "\n",
    "from sklearn.model_selection import train_test_split, cross_val_score, GridSearchCV\n",
    "from sklearn.linear_model import LogisticRegression\n",
    "\n",
    "# train test split\n",
    "X_train, X_test, y_train, y_test = train_test_split(digits.data, digits.target, test_size=0.33, random_state=42)\n",
    "\n",
    "# GridSearchCV\n",
    "search_space = [0.001,0.01,0.1,1,10,100]\n",
    "params = dict(C=search_space)\n",
    "\n",
    "model = LogisticRegression()\n",
    "grid_search = GridSearchCV(model, params)\n",
    "grid_search.fit(X_train,y_train)\n",
    "best_score = grid_search.best_score_\n",
    "print(grid_search.best_estimator_)\n",
    "\n",
    "print(\"The best score for this model is \" + str(grid_search.best_score_) +\n",
    "     \" with C=0.01\")\n",
    "\n",
    "# cross validation\n",
    "\n",
    "model = LogisticRegression(C=0.01)\n",
    "scores = cross_val_score(model, X_train, y_train, cv=10)\n",
    "\n",
    "# fitting the model\n",
    "\n",
    "model.fit(X_train,y_train)\n",
    "\n",
    "# predictions\n",
    "\n",
    "predictions = model.predict(X_test)\n",
    "\n",
    "score_acc = metrics.accuracy_score(y_test, predictions)\n",
    "print(\"The accuracy of an optimized logistic regression model on unseen external data is \" +str(score_acc))\n",
    "\n",
    "#End code here"
   ]
  }
 ],
 "metadata": {
  "kernelspec": {
   "display_name": "Python 3 (ipykernel)",
   "language": "python",
   "name": "python3"
  },
  "language_info": {
   "codemirror_mode": {
    "name": "ipython",
    "version": 3
   },
   "file_extension": ".py",
   "mimetype": "text/x-python",
   "name": "python",
   "nbconvert_exporter": "python",
   "pygments_lexer": "ipython3",
   "version": "3.10.4"
  }
 },
 "nbformat": 4,
 "nbformat_minor": 4
}
